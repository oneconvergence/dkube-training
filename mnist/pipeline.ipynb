{
 "cells": [
  {
   "cell_type": "code",
   "execution_count": 1,
   "metadata": {},
   "outputs": [
    {
     "name": "stdout",
     "output_type": "stream",
     "text": [
      "\u001b[33mWARNING: You are using pip version 19.2.3, however version 20.3.3 is available.\n",
      "You should consider upgrading via the 'pip install --upgrade pip' command.\u001b[0m\n"
     ]
    }
   ],
   "source": [
    "import sys\n",
    "!{sys.executable} -m pip install kfp >/dev/null"
   ]
  },
  {
   "cell_type": "code",
   "execution_count": 2,
   "metadata": {},
   "outputs": [],
   "source": [
    "import os\n",
    "import kfp"
   ]
  },
  {
   "cell_type": "code",
   "execution_count": 3,
   "metadata": {},
   "outputs": [],
   "source": [
    "dkube_training_op           = kfp.components.load_component_from_url(\"https://raw.githubusercontent.com/oneconvergence/dkube-training/main/components/training/component.yaml\")\n",
    "dkube_serving_op            = kfp.components.load_component_from_url(\"https://raw.githubusercontent.com/oneconvergence/dkube-training/main/components/serving/component.yaml\")"
   ]
  },
  {
   "cell_type": "code",
   "execution_count": 7,
   "metadata": {},
   "outputs": [],
   "source": [
    "@kfp.dsl.pipeline(\n",
    "    name='dkube-mnist-pl',\n",
    "    description='sample mnist pipeline with dkube components'\n",
    ")\n",
    "def mnist_pipeline(token, program='training'):\n",
    "\n",
    "    train       = dkube_training_op(token, '{\"image\":\"ocdr/dkube-datascience-tf-cpu:v2.0.0\"}',\n",
    "                                    framework=\"tensorflow\", version=\"2.0.0\",\n",
    "                                    program=\"training\", run_script=\"python mnist/train.py\",\n",
    "                                    datasets='[\"training\"]', outputs='[\"training\"]',\n",
    "                                    input_dataset_mounts='[\"/mnist\"]',\n",
    "                                    output_mounts='[\"/opt/dkube/output\"]',\n",
    "                                    envs='[{\"EPOCHS\": \"5\"}]')\n",
    "\n",
    "    serving     = dkube_serving_op(token, train.outputs['artifact'], device='cpu', \n",
    "                                    serving_image='{\"image\":\"ocdr/tensorflowserver:2.0.0\"}',\n",
    "                                    transformer_image='{\"image\":\"ocdr/dkube-datascience-tf-cpu:v2.0.0\"}',\n",
    "                                    transformer_project=\"training\",\n",
    "                                    transformer_code='mnist/transformer.py').after(train)"
   ]
  },
  {
   "cell_type": "code",
   "execution_count": 8,
   "metadata": {},
   "outputs": [
    {
     "data": {
      "text/html": [
       "<a href=\"/pipeline/#/experiments/details/5f7215bf-92c6-46e6-8dac-acd2114a28e8\" target=\"_blank\" >Experiment details</a>."
      ],
      "text/plain": [
       "<IPython.core.display.HTML object>"
      ]
     },
     "metadata": {},
     "output_type": "display_data"
    },
    {
     "data": {
      "text/html": [
       "<a href=\"/pipeline/#/runs/details/8cef92f3-f875-4b2f-945c-988cdcfea2eb\" target=\"_blank\" >Run details</a>."
      ],
      "text/plain": [
       "<IPython.core.display.HTML object>"
      ]
     },
     "metadata": {},
     "output_type": "display_data"
    },
    {
     "data": {
      "text/plain": [
       "RunPipelineResult(run_id=8cef92f3-f875-4b2f-945c-988cdcfea2eb)"
      ]
     },
     "execution_count": 8,
     "metadata": {},
     "output_type": "execute_result"
    }
   ],
   "source": [
    "token  = os.getenv(\"DKUBE_USER_ACCESS_TOKEN\")\n",
    "client = kfp.Client(existing_token=token)\n",
    "client.create_run_from_pipeline_func(mnist_pipeline, arguments={\"token\":token})"
   ]
  },
  {
   "cell_type": "code",
   "execution_count": 9,
   "metadata": {},
   "outputs": [
    {
     "data": {
      "text/html": [
       "<a href=/pipeline/#/pipelines/details/3432e270-ce8a-4a88-97a6-bc14aa0e1ce3>Pipeline details</a>."
      ],
      "text/plain": [
       "<IPython.core.display.HTML object>"
      ]
     },
     "metadata": {},
     "output_type": "display_data"
    },
    {
     "data": {
      "text/plain": [
       "{'created_at': datetime.datetime(2020, 12, 16, 22, 50, 16, tzinfo=tzlocal()),\n",
       " 'default_version': {'code_source_url': None,\n",
       "                     'created_at': datetime.datetime(2020, 12, 16, 22, 50, 16, tzinfo=tzlocal()),\n",
       "                     'id': '3432e270-ce8a-4a88-97a6-bc14aa0e1ce3',\n",
       "                     'name': 'mnist-pipeline.zip',\n",
       "                     'package_url': None,\n",
       "                     'parameters': [{'name': 'token', 'value': None},\n",
       "                                    {'name': 'program', 'value': 'training'}],\n",
       "                     'resource_references': [{'key': {'id': '3432e270-ce8a-4a88-97a6-bc14aa0e1ce3',\n",
       "                                                      'type': 'PIPELINE'},\n",
       "                                              'name': None,\n",
       "                                              'relationship': 'OWNER'}]},\n",
       " 'description': None,\n",
       " 'error': None,\n",
       " 'id': '3432e270-ce8a-4a88-97a6-bc14aa0e1ce3',\n",
       " 'name': 'mnist-pipeline.zip',\n",
       " 'parameters': [{'name': 'token', 'value': None},\n",
       "                {'name': 'program', 'value': 'training'}],\n",
       " 'url': None}"
      ]
     },
     "execution_count": 9,
     "metadata": {},
     "output_type": "execute_result"
    }
   ],
   "source": [
    "#generate & upload pipeline (Optional)\n",
    "import kfp.compiler as compiler\n",
    "compiler.Compiler().compile(mnist_pipeline, \"mnist-pipeline.zip\")\n",
    "client.upload_pipeline(\"mnist-pipeline.zip\")"
   ]
  },
  {
   "cell_type": "code",
   "execution_count": null,
   "metadata": {},
   "outputs": [],
   "source": []
  }
 ],
 "metadata": {
  "kernelspec": {
   "display_name": "Python 3",
   "language": "python",
   "name": "python3"
  },
  "language_info": {
   "codemirror_mode": {
    "name": "ipython",
    "version": 3
   },
   "file_extension": ".py",
   "mimetype": "text/x-python",
   "name": "python",
   "nbconvert_exporter": "python",
   "pygments_lexer": "ipython3",
   "version": "3.6.8"
  }
 },
 "nbformat": 4,
 "nbformat_minor": 4
}
